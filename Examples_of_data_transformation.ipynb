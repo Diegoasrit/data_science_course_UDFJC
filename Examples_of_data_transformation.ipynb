{
 "cells": [
  {
   "cell_type": "markdown",
   "metadata": {},
   "source": [
    "# Selection and Transformation of Relevant Characteristics\n",
    "\n",
    "Some examples of dropping duplicates, coding categorical variables and applying logarithmic transformation"
   ]
  },
  {
   "cell_type": "code",
   "execution_count": 5,
   "metadata": {},
   "outputs": [],
   "source": [
    "# import libraries\n",
    "\n",
    "import pandas as pd \n",
    "import numpy as np\n",
    "from sklearn.preprocessing import LabelEncoder"
   ]
  },
  {
   "cell_type": "code",
   "execution_count": 29,
   "metadata": {},
   "outputs": [
    {
     "name": "stdout",
     "output_type": "stream",
     "text": [
      "DataFrame original:\n",
      "      D  E  F\n",
      "0   cat  1  a\n",
      "1   dog  1  b\n",
      "2   cat  2  a\n",
      "3  bird  2  b\n",
      "4   dog  3  a\n",
      "5   cat  3  b\n",
      "6  bird  4  a\n",
      "7   cat  4  b\n",
      "8   dog  5  a\n",
      "9   cat  1  a\n"
     ]
    }
   ],
   "source": [
    "# create an example dataframe with duplicated rows\n",
    "\n",
    "data = {\n",
    "    'D' : ['cat', 'dog', 'cat', 'bird', 'dog', 'cat', 'bird', 'cat', 'dog', 'cat'], \n",
    "    'E' : [1,1,2,2,3,3,4,4,5,1], \n",
    "    'F' : ['a', 'b', 'a', 'b', 'a', 'b', 'a', 'b', 'a', 'a']\n",
    "}\n",
    "\n",
    "df = pd.DataFrame(data)\n",
    "\n",
    "print(\"DataFrame original:\")\n",
    "print(df)"
   ]
  },
  {
   "cell_type": "code",
   "execution_count": 30,
   "metadata": {},
   "outputs": [
    {
     "name": "stdout",
     "output_type": "stream",
     "text": [
      "       D  E  F\n",
      "0    cat  1  a\n",
      "1    dog  1  b\n",
      "2    cat  2  a\n",
      "3   bird  2  b\n",
      "4    dog  3  a\n",
      "5    cat  3  b\n",
      "6   bird  4  a\n",
      "7    cat  4  b\n",
      "8    dog  5  a\n",
      "9    cat  1  a\n",
      "10   cat  1  a\n"
     ]
    }
   ],
   "source": [
    "# add a new duplicate row\n",
    "\n",
    "df = pd.concat([df, df.iloc[0].to_frame().T], ignore_index=True)\n"
   ]
  },
  {
   "cell_type": "code",
   "execution_count": 31,
   "metadata": {},
   "outputs": [
    {
     "name": "stdout",
     "output_type": "stream",
     "text": [
      "DataFrame original con una fila duplicada:\n",
      "       D  E  F\n",
      "0    cat  1  a\n",
      "1    dog  1  b\n",
      "2    cat  2  a\n",
      "3   bird  2  b\n",
      "4    dog  3  a\n",
      "5    cat  3  b\n",
      "6   bird  4  a\n",
      "7    cat  4  b\n",
      "8    dog  5  a\n",
      "9    cat  1  a\n",
      "10   cat  1  a\n"
     ]
    }
   ],
   "source": [
    "print(\"Original DataFrame with a duplicated row:\")\n",
    "print(df)"
   ]
  },
  {
   "cell_type": "code",
   "execution_count": 32,
   "metadata": {},
   "outputs": [
    {
     "name": "stdout",
     "output_type": "stream",
     "text": [
      "\n",
      "DataFrame after coding the categorical variables\n",
      "    D  E  F\n",
      "0   1  1  a\n",
      "1   2  1  b\n",
      "2   1  2  a\n",
      "3   0  2  b\n",
      "4   2  3  a\n",
      "5   1  3  b\n",
      "6   0  4  a\n",
      "7   1  4  b\n",
      "8   2  5  a\n",
      "9   1  1  a\n",
      "10  1  1  a\n"
     ]
    }
   ],
   "source": [
    "# coding categorical variables using LabelEncoder\n",
    "\n",
    "encoder = LabelEncoder()\n",
    "df['D'] = encoder.fit_transform(df['D'])\n",
    "\n",
    "print(\"\\nDataFrame after coding the categorical variables\")\n",
    "print(df)"
   ]
  },
  {
   "cell_type": "code",
   "execution_count": 33,
   "metadata": {},
   "outputs": [
    {
     "name": "stdout",
     "output_type": "stream",
     "text": [
      "\n",
      "DataFrame after deleting the duplicates\n",
      "   D  E  F\n",
      "0  1  1  a\n",
      "1  2  1  b\n",
      "2  1  2  a\n",
      "3  0  2  b\n",
      "4  2  3  a\n",
      "5  1  3  b\n",
      "6  0  4  a\n",
      "7  1  4  b\n",
      "8  2  5  a\n"
     ]
    }
   ],
   "source": [
    "# Example of how to eliminate duplicate rows\n",
    "\n",
    "df.drop_duplicates(inplace=True)\n",
    "\n",
    "print(\"\\nDataFrame after deleting the duplicates\")\n",
    "print(df)"
   ]
  },
  {
   "cell_type": "code",
   "execution_count": 35,
   "metadata": {},
   "outputs": [
    {
     "name": "stdout",
     "output_type": "stream",
     "text": [
      "\n",
      "DataFrame after logaritmic transformation\n",
      "   D         E  F\n",
      "0  1  0.000000  a\n",
      "1  2  0.000000  b\n",
      "2  1  0.693147  a\n",
      "3  0  0.693147  b\n",
      "4  2  1.098612  a\n",
      "5  1  1.098612  b\n",
      "6  0  1.386294  a\n",
      "7  1  1.386294  b\n",
      "8  2  1.609438  a\n"
     ]
    }
   ],
   "source": [
    "# logarithmic transformation data for high variability variables\n",
    "df[\"E\"] = df['E'].astype(float).apply(np.log)\n",
    "\n",
    "print(\"\\nDataFrame after logarithmic transformation\")\n",
    "print(df)"
   ]
  }
 ],
 "metadata": {
  "kernelspec": {
   "display_name": "Python 3",
   "language": "python",
   "name": "python3"
  },
  "language_info": {
   "codemirror_mode": {
    "name": "ipython",
    "version": 3
   },
   "file_extension": ".py",
   "mimetype": "text/x-python",
   "name": "python",
   "nbconvert_exporter": "python",
   "pygments_lexer": "ipython3",
   "version": "3.8.5"
  }
 },
 "nbformat": 4,
 "nbformat_minor": 2
}
